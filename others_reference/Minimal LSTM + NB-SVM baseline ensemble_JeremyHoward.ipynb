{
 "cells": [
  {
   "cell_type": "markdown",
   "metadata": {},
   "source": [
    "https://www.kaggle.com/jhoward/minimal-lstm-nb-svm-baseline-ensemble\n",
    "\n",
    "11540 views 133 voting\n",
    "\n",
    "## public: 0.9809"
   ]
  },
  {
   "cell_type": "markdown",
   "metadata": {},
   "source": [
    "## Introduction\n",
    "There are two very different strong baselines currently in the kernels for this competition:\n",
    "\n",
    "An LSTM model, which uses a recurrent neural network to model state across each text, with no feature engineering\n",
    "An NB-SVM inspired model, which uses a simple linear approach on top of naive bayes features\n",
    "In theory, an ensemble works best when the individual models are as different as possible. Therefore, we should see that even a simple average of these two models gets a good result. Let's try it! First, we'll load the outputs of the models (in the Kaggle Kernels environment you can add these as input files directly from the UI; otherwise you'll need to download them first)."
   ]
  },
  {
   "cell_type": "code",
   "execution_count": 1,
   "metadata": {
    "ExecuteTime": {
     "end_time": "2018-03-09T22:18:11.401968Z",
     "start_time": "2018-03-09T22:18:10.945169Z"
    }
   },
   "outputs": [],
   "source": [
    "import numpy as np, pandas as pd\n",
    "\n",
    "f_lstm = 'submission_Improved_LSTM_baseline_GloVe_dropout.csv'\n",
    "f_nbsvm = 'submission_nb_svm_strong_linear_baseline.csv'"
   ]
  },
  {
   "cell_type": "code",
   "execution_count": 2,
   "metadata": {
    "ExecuteTime": {
     "end_time": "2018-03-09T22:26:14.465783Z",
     "start_time": "2018-03-09T22:26:13.611212Z"
    }
   },
   "outputs": [],
   "source": [
    "p_lstm = pd.read_csv(f_lstm)\n",
    "p_nbsvm = pd.read_csv(f_nbsvm)"
   ]
  },
  {
   "cell_type": "markdown",
   "metadata": {},
   "source": [
    "Now we can take the average of the label columns."
   ]
  },
  {
   "cell_type": "code",
   "execution_count": 3,
   "metadata": {
    "ExecuteTime": {
     "end_time": "2018-03-09T22:26:50.702629Z",
     "start_time": "2018-03-09T22:26:50.605949Z"
    }
   },
   "outputs": [],
   "source": [
    "label_cols = ['toxic', 'severe_toxic', 'obscene', 'threat', 'insult', 'identity_hate']\n",
    "p_res = p_lstm.copy()\n",
    "p_res[label_cols] = (p_nbsvm[label_cols] + p_lstm[label_cols]) / 2"
   ]
  },
  {
   "cell_type": "code",
   "execution_count": 4,
   "metadata": {
    "ExecuteTime": {
     "end_time": "2018-03-09T22:27:41.231272Z",
     "start_time": "2018-03-09T22:27:39.367084Z"
    }
   },
   "outputs": [],
   "source": [
    "p_res.to_csv('submission_combine.csv', index=False)"
   ]
  },
  {
   "cell_type": "markdown",
   "metadata": {},
   "source": [
    "As we hoped, when we submit this to Kaggle, we get a great result - much better than the individual scores of the kernels we based off. This is currently the best Kaggle kernel submission that runs within the kernels sandbox!"
   ]
  },
  {
   "cell_type": "code",
   "execution_count": null,
   "metadata": {},
   "outputs": [],
   "source": []
  }
 ],
 "metadata": {
  "kernelspec": {
   "display_name": "Python 3",
   "language": "python",
   "name": "python3"
  },
  "language_info": {
   "codemirror_mode": {
    "name": "ipython",
    "version": 3
   },
   "file_extension": ".py",
   "mimetype": "text/x-python",
   "name": "python",
   "nbconvert_exporter": "python",
   "pygments_lexer": "ipython3",
   "version": "3.6.3"
  },
  "latex_envs": {
   "LaTeX_envs_menu_present": true,
   "autoclose": false,
   "autocomplete": true,
   "bibliofile": "biblio.bib",
   "cite_by": "apalike",
   "current_citInitial": 1,
   "eqLabelWithNumbers": true,
   "eqNumInitial": 1,
   "hotkeys": {
    "equation": "Ctrl-E",
    "itemize": "Ctrl-I"
   },
   "labels_anchors": false,
   "latex_user_defs": false,
   "report_style_numbering": false,
   "user_envs_cfg": false
  }
 },
 "nbformat": 4,
 "nbformat_minor": 2
}
