{
 "cells": [
  {
   "cell_type": "markdown",
   "metadata": {},
   "source": [
    "1m24s.. super cooly fast"
   ]
  },
  {
   "cell_type": "code",
   "execution_count": 1,
   "metadata": {
    "ExecuteTime": {
     "end_time": "2018-03-12T01:58:53.679288Z",
     "start_time": "2018-03-12T01:57:29.614932Z"
    }
   },
   "outputs": [
    {
     "name": "stdout",
     "output_type": "stream",
     "text": [
      "===Fit toxic\n",
      "ROC AUC: 0.9840021889188486\n",
      "===Fit severe_toxic\n",
      "ROC AUC: 0.9922863010182253\n",
      "===Fit obscene\n",
      "ROC AUC: 0.9930138878700242\n",
      "===Fit threat\n",
      "ROC AUC: 0.9952870254805043\n",
      "===Fit insult\n",
      "ROC AUC: 0.9873523696843048\n",
      "===Fit identity_hate\n",
      "ROC AUC: 0.9900204312573443\n",
      "mean column-wise ROC AUC: 0.9903270340382084\n"
     ]
    }
   ],
   "source": [
    "import numpy as np\n",
    "import pandas as pd\n",
    "from sklearn.feature_extraction.text import TfidfVectorizer\n",
    "from sklearn.linear_model import LogisticRegression\n",
    "from sklearn.metrics import roc_auc_score\n",
    "\n",
    "import warnings\n",
    "warnings.filterwarnings('ignore')\n",
    "\n",
    "\n",
    "train = pd.read_csv('../input/train.csv')\n",
    "test = pd.read_csv('../input/test.csv')\n",
    "subm = pd.read_csv('../input/sample_submission.csv')\n",
    "\n",
    "\n",
    "\n",
    "df = pd.concat([train['comment_text'], test['comment_text']], axis=0)\n",
    "df = df.fillna(\"unknown\")\n",
    "nrow_train = train.shape[0]\n",
    "\n",
    "vectorizer = TfidfVectorizer(stop_words='english', max_features=50000)\n",
    "X = vectorizer.fit_transform(df)\n",
    "\n",
    "col = ['toxic', 'severe_toxic', 'obscene', 'threat', 'insult', 'identity_hate']\n",
    "\n",
    "preds = np.zeros((test.shape[0], len(col)))\n",
    "\n",
    "\n",
    "\n",
    "loss = []\n",
    "\n",
    "for i, j in enumerate(col):\n",
    "    print('===Fit '+j)\n",
    "    model = LogisticRegression()\n",
    "    model.fit(X[:nrow_train], train[j])\n",
    "    preds[:,i] = model.predict_proba(X[nrow_train:])[:,1]\n",
    "    \n",
    "    pred_train = model.predict_proba(X[:nrow_train])[:,1]\n",
    "    print('ROC AUC:', roc_auc_score(train[j], pred_train))\n",
    "    loss.append(roc_auc_score(train[j], pred_train))\n",
    "    \n",
    "print('mean column-wise ROC AUC:', np.mean(loss))\n",
    "    \n",
    "    \n",
    "submid = pd.DataFrame({'id': subm[\"id\"]})\n",
    "submission = pd.concat([submid, pd.DataFrame(preds, columns = col)], axis=1)\n",
    "submission.to_csv('submission_toxic_regression.csv', index=False)"
   ]
  },
  {
   "cell_type": "code",
   "execution_count": null,
   "metadata": {},
   "outputs": [],
   "source": []
  }
 ],
 "metadata": {
  "kernelspec": {
   "display_name": "Python 3",
   "language": "python",
   "name": "python3"
  },
  "language_info": {
   "codemirror_mode": {
    "name": "ipython",
    "version": 3
   },
   "file_extension": ".py",
   "mimetype": "text/x-python",
   "name": "python",
   "nbconvert_exporter": "python",
   "pygments_lexer": "ipython3",
   "version": "3.6.3"
  },
  "latex_envs": {
   "LaTeX_envs_menu_present": true,
   "autoclose": false,
   "autocomplete": true,
   "bibliofile": "biblio.bib",
   "cite_by": "apalike",
   "current_citInitial": 1,
   "eqLabelWithNumbers": true,
   "eqNumInitial": 1,
   "hotkeys": {
    "equation": "Ctrl-E",
    "itemize": "Ctrl-I"
   },
   "labels_anchors": false,
   "latex_user_defs": false,
   "report_style_numbering": false,
   "user_envs_cfg": false
  }
 },
 "nbformat": 4,
 "nbformat_minor": 2
}
