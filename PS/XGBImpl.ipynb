{
 "cells": [
  {
   "cell_type": "code",
   "execution_count": 1,
   "metadata": {},
   "outputs": [
    {
     "name": "stderr",
     "output_type": "stream",
     "text": [
      "/Users/poojasharma/anaconda2/lib/python2.7/site-packages/sklearn/cross_validation.py:41: DeprecationWarning: This module was deprecated in version 0.18 in favor of the model_selection module into which all the refactored classes and functions are moved. Also note that the interface of the new CV iterators are different from that of this module. This module will be removed in 0.20.\n",
      "  \"This module will be removed in 0.20.\", DeprecationWarning)\n"
     ]
    },
    {
     "name": "stdout",
     "output_type": "stream",
     "text": [
      "TFIDF\n"
     ]
    }
   ],
   "source": [
    "import numpy as np\n",
    "import pandas as pd\n",
    "\n",
    "from sklearn.feature_extraction.text import TfidfVectorizer\n",
    "from sklearn.linear_model import LogisticRegression\n",
    "from sklearn.model_selection import cross_val_score\n",
    "from scipy.sparse import hstack\n",
    "import xgboost as xgb\n",
    "from xgboost.sklearn import XGBClassifier # <3\n",
    "from sklearn.model_selection import train_test_split\n",
    "import gc\n",
    "\n",
    "class_names = ['toxic', 'severe_toxic', 'obscene', 'threat', 'insult', 'identity_hate']\n",
    "\n",
    "train = pd.read_csv('data/train_preprocessed.csv').fillna(' ')#.sample(1000)\n",
    "test = pd.read_csv('data/test_preprocessed.csv').fillna(' ')#.sample(1000)\n",
    "\n",
    "train_text = train['comment_text']\n",
    "test_text = test['comment_text']\n",
    "all_text = pd.concat([train_text, test_text])\n",
    "\n",
    "train = train.loc[:,class_names]\n",
    "\n",
    "print(\"TFIDF\")\n",
    "word_vectorizer = TfidfVectorizer(\n",
    "    sublinear_tf=True,\n",
    "    strip_accents='unicode',\n",
    "    analyzer='word',\n",
    "    token_pattern=r'\\w{1,}',\n",
    "    stop_words='english',\n",
    "    ngram_range=(1, 1),\n",
    "    norm='l2',\n",
    "    min_df=0,\n",
    "    smooth_idf=False,\n",
    "    max_features=5000)\n",
    "word_vectorizer.fit(all_text)\n",
    "train_word_features = word_vectorizer.transform(train_text)\n",
    "test_word_features = word_vectorizer.transform(test_text)\n",
    "train_features = train_word_features\n",
    "test_features = test_word_features"
   ]
  },
  {
   "cell_type": "code",
   "execution_count": 2,
   "metadata": {},
   "outputs": [
    {
     "data": {
      "text/plain": [
       "dtype('float64')"
      ]
     },
     "execution_count": 2,
     "metadata": {},
     "output_type": "execute_result"
    }
   ],
   "source": [
    "train_word_features.dtype"
   ]
  },
  {
   "cell_type": "code",
   "execution_count": 3,
   "metadata": {},
   "outputs": [
    {
     "name": "stdout",
     "output_type": "stream",
     "text": [
      "  (0, 4984)\t0.2504784615710792\n",
      "  (0, 4869)\t0.26779664550409343\n",
      "  (0, 4804)\t0.283750129022613\n",
      "  (0, 4706)\t0.2296680841471418\n",
      "  (0, 4455)\t0.20224101642594247\n",
      "  (0, 4416)\t0.11765901554568048\n",
      "  (0, 4400)\t0.16079684889021442\n",
      "  (0, 3817)\t0.19451556902700642\n",
      "  (0, 3804)\t0.30131684044582985\n",
      "  (0, 3724)\t0.1801293482891167\n",
      "  (0, 3157)\t0.11064731681371362\n",
      "  (0, 2960)\t0.15571948114354867\n",
      "  (0, 2670)\t0.1298635275477737\n",
      "  (0, 2431)\t0.11640652722842207\n",
      "  (0, 2015)\t0.32206581951897956\n",
      "  (0, 1865)\t0.2929240202813838\n",
      "  (0, 1665)\t0.24865058879375296\n",
      "  (0, 1629)\t0.2829002671200444\n",
      "  (0, 1605)\t0.22456772307716327\n",
      "  (0, 1428)\t0.16305025055919967\n",
      "  (0, 1353)\t0.1236750115146054\n",
      "  (1, 4715)\t0.2286559739672488\n",
      "  (1, 4483)\t0.189162952368473\n",
      "  (1, 4416)\t0.15702708654024028\n",
      "  (1, 4303)\t0.37082022717735424\n",
      "  :\t:\n",
      "  (159568, 61)\t0.3730302182092655\n",
      "  (159569, 4756)\t0.42650879821632404\n",
      "  (159569, 4204)\t0.44187891020311637\n",
      "  (159569, 2643)\t0.4354434405082687\n",
      "  (159569, 2640)\t0.3374359504675947\n",
      "  (159569, 2584)\t0.24949162218326149\n",
      "  (159569, 1199)\t0.35533885762289547\n",
      "  (159569, 62)\t0.3617284754283886\n",
      "  (159570, 4642)\t0.20276577509543003\n",
      "  (159570, 4494)\t0.14283930576222723\n",
      "  (159570, 4400)\t0.10602843199227391\n",
      "  (159570, 3842)\t0.17905262266118954\n",
      "  (159570, 3830)\t0.2984043806553076\n",
      "  (159570, 3626)\t0.17335473236649554\n",
      "  (159570, 2460)\t0.22081930589519408\n",
      "  (159570, 2290)\t0.21304175930152097\n",
      "  (159570, 2167)\t0.2742673022800005\n",
      "  (159570, 2165)\t0.21711185785018916\n",
      "  (159570, 2059)\t0.28378339264224167\n",
      "  (159570, 1918)\t0.2489987443834578\n",
      "  (159570, 1353)\t0.1380770425528334\n",
      "  (159570, 879)\t0.23664154546538066\n",
      "  (159570, 633)\t0.23490358006953554\n",
      "  (159570, 391)\t0.3687176769581235\n",
      "  (159570, 382)\t0.3883885939388727\n"
     ]
    }
   ],
   "source": [
    "print train_word_features"
   ]
  },
  {
   "cell_type": "code",
   "execution_count": 4,
   "metadata": {},
   "outputs": [
    {
     "ename": "AttributeError",
     "evalue": "type not found",
     "output_type": "error",
     "traceback": [
      "\u001b[0;31m---------------------------------------------------------------------------\u001b[0m",
      "\u001b[0;31mAttributeError\u001b[0m                            Traceback (most recent call last)",
      "\u001b[0;32m<ipython-input-4-c9f2211bbf72>\u001b[0m in \u001b[0;36m<module>\u001b[0;34m()\u001b[0m\n\u001b[0;32m----> 1\u001b[0;31m \u001b[0;32mprint\u001b[0m\u001b[0;34m(\u001b[0m\u001b[0mtrain_features\u001b[0m\u001b[0;34m.\u001b[0m\u001b[0mtype\u001b[0m\u001b[0;34m)\u001b[0m\u001b[0;34m\u001b[0m\u001b[0m\n\u001b[0m\u001b[1;32m      2\u001b[0m \u001b[0;32mprint\u001b[0m\u001b[0;34m(\u001b[0m\u001b[0mtest_features\u001b[0m\u001b[0;34m.\u001b[0m\u001b[0mtype\u001b[0m\u001b[0;34m)\u001b[0m\u001b[0;34m\u001b[0m\u001b[0m\n\u001b[1;32m      3\u001b[0m \u001b[0md_test\u001b[0m \u001b[0;34m=\u001b[0m \u001b[0mxgb\u001b[0m\u001b[0;34m.\u001b[0m\u001b[0mDMatrix\u001b[0m\u001b[0;34m(\u001b[0m\u001b[0mtest_features\u001b[0m\u001b[0;34m)\u001b[0m\u001b[0;34m\u001b[0m\u001b[0m\n\u001b[1;32m      4\u001b[0m \u001b[0;32mdel\u001b[0m \u001b[0mtest_features\u001b[0m\u001b[0;34m\u001b[0m\u001b[0m\n\u001b[1;32m      5\u001b[0m \u001b[0mgc\u001b[0m\u001b[0;34m.\u001b[0m\u001b[0mcollect\u001b[0m\u001b[0;34m(\u001b[0m\u001b[0;34m)\u001b[0m\u001b[0;34m\u001b[0m\u001b[0m\n",
      "\u001b[0;32m/Users/poojasharma/anaconda2/lib/python2.7/site-packages/scipy/sparse/base.pyc\u001b[0m in \u001b[0;36m__getattr__\u001b[0;34m(self, attr)\u001b[0m\n\u001b[1;32m    645\u001b[0m             \u001b[0;32mreturn\u001b[0m \u001b[0mself\u001b[0m\u001b[0;34m.\u001b[0m\u001b[0mgetnnz\u001b[0m\u001b[0;34m(\u001b[0m\u001b[0;34m)\u001b[0m\u001b[0;34m\u001b[0m\u001b[0m\n\u001b[1;32m    646\u001b[0m         \u001b[0;32melse\u001b[0m\u001b[0;34m:\u001b[0m\u001b[0;34m\u001b[0m\u001b[0m\n\u001b[0;32m--> 647\u001b[0;31m             \u001b[0;32mraise\u001b[0m \u001b[0mAttributeError\u001b[0m\u001b[0;34m(\u001b[0m\u001b[0mattr\u001b[0m \u001b[0;34m+\u001b[0m \u001b[0;34m\" not found\"\u001b[0m\u001b[0;34m)\u001b[0m\u001b[0;34m\u001b[0m\u001b[0m\n\u001b[0m\u001b[1;32m    648\u001b[0m \u001b[0;34m\u001b[0m\u001b[0m\n\u001b[1;32m    649\u001b[0m     \u001b[0;32mdef\u001b[0m \u001b[0mtranspose\u001b[0m\u001b[0;34m(\u001b[0m\u001b[0mself\u001b[0m\u001b[0;34m,\u001b[0m \u001b[0maxes\u001b[0m\u001b[0;34m=\u001b[0m\u001b[0mNone\u001b[0m\u001b[0;34m,\u001b[0m \u001b[0mcopy\u001b[0m\u001b[0;34m=\u001b[0m\u001b[0mFalse\u001b[0m\u001b[0;34m)\u001b[0m\u001b[0;34m:\u001b[0m\u001b[0;34m\u001b[0m\u001b[0m\n",
      "\u001b[0;31mAttributeError\u001b[0m: type not found"
     ]
    }
   ],
   "source": [
    "print(train_features.type)\n",
    "print(test_features.type)"
   ]
  },
  {
   "cell_type": "code",
   "execution_count": 5,
   "metadata": {},
   "outputs": [
    {
     "name": "stdout",
     "output_type": "stream",
     "text": [
      "Modeling\n",
      "class Name: toxic\n",
      "[191]\tvalid-auc:0.963856\n",
      "class Name: severe_toxic\n",
      "[61]\tvalid-auc:0.986941\n",
      "class Name: obscene\n",
      "[192]\tvalid-auc:0.988981\n",
      "class Name: threat\n",
      "[38]\tvalid-auc:0.970612\n",
      "class Name: insult\n",
      "[109]\tvalid-auc:0.974105\n",
      "class Name: identity_hate\n",
      "[127]\tvalid-auc:0.965331\n",
      "Total CV score is 0.974971\n"
     ]
    }
   ],
   "source": [
    "d_test = xgb.DMatrix(test_features)\n",
    "del test_features\n",
    "gc.collect()\n",
    "\n",
    "print(\"Modeling\")\n",
    "cv_scores = []\n",
    "xgb_preds = []\n",
    "submission = pd.DataFrame.from_dict({'id': test['id']})\n",
    "for class_name in class_names:\n",
    "    train_target = train[class_name]\n",
    "    # Split out a validation set\n",
    "    X_train, X_valid, y_train, y_valid = train_test_split(\n",
    "        train_features, train_target, test_size=0.25, random_state=23)\n",
    "\n",
    "    xgb_params = {'eta': 0.3, \n",
    "              'max_depth': 5, \n",
    "              'subsample': 0.8, \n",
    "              'colsample_bytree': 0.8, \n",
    "              'objective': 'binary:logistic', \n",
    "              'eval_metric': 'auc', \n",
    "              'seed': 42\n",
    "             }\n",
    "\n",
    "    d_train = xgb.DMatrix(X_train, y_train)\n",
    "    d_valid = xgb.DMatrix(X_valid, y_valid)\n",
    "\n",
    "    watchlist = [(d_valid, 'valid')]\n",
    "    model = xgb.train(xgb_params, d_train, 200, watchlist, verbose_eval=False, early_stopping_rounds=30)\n",
    "    print(\"class Name: {}\".format(class_name))\n",
    "    print(model.attributes()['best_msg'])\n",
    "    cv_scores.append(float(model.attributes()['best_score']))\n",
    "    submission[class_name] = model.predict(d_test)\n",
    "    del X_train, X_valid, y_train, y_valid\n",
    "    gc.collect()\n",
    "print('Total CV score is {}'.format(np.mean(cv_scores)))"
   ]
  },
  {
   "cell_type": "code",
   "execution_count": 6,
   "metadata": {},
   "outputs": [],
   "source": [
    "submission.to_csv('submissionMar16.csv', index=False)"
   ]
  },
  {
   "cell_type": "code",
   "execution_count": 7,
   "metadata": {},
   "outputs": [
    {
     "data": {
      "text/html": [
       "<div>\n",
       "<style>\n",
       "    .dataframe thead tr:only-child th {\n",
       "        text-align: right;\n",
       "    }\n",
       "\n",
       "    .dataframe thead th {\n",
       "        text-align: left;\n",
       "    }\n",
       "\n",
       "    .dataframe tbody tr th {\n",
       "        vertical-align: top;\n",
       "    }\n",
       "</style>\n",
       "<table border=\"1\" class=\"dataframe\">\n",
       "  <thead>\n",
       "    <tr style=\"text-align: right;\">\n",
       "      <th></th>\n",
       "      <th>toxic</th>\n",
       "      <th>severe_toxic</th>\n",
       "      <th>obscene</th>\n",
       "      <th>threat</th>\n",
       "      <th>insult</th>\n",
       "      <th>identity_hate</th>\n",
       "    </tr>\n",
       "  </thead>\n",
       "  <tbody>\n",
       "    <tr>\n",
       "      <th>count</th>\n",
       "      <td>153164.000000</td>\n",
       "      <td>153164.000000</td>\n",
       "      <td>153164.000000</td>\n",
       "      <td>153164.000000</td>\n",
       "      <td>153164.000000</td>\n",
       "      <td>1.531640e+05</td>\n",
       "    </tr>\n",
       "    <tr>\n",
       "      <th>mean</th>\n",
       "      <td>0.201579</td>\n",
       "      <td>0.019184</td>\n",
       "      <td>0.125718</td>\n",
       "      <td>0.004649</td>\n",
       "      <td>0.103635</td>\n",
       "      <td>1.759101e-02</td>\n",
       "    </tr>\n",
       "    <tr>\n",
       "      <th>std</th>\n",
       "      <td>0.331414</td>\n",
       "      <td>0.080079</td>\n",
       "      <td>0.284637</td>\n",
       "      <td>0.040392</td>\n",
       "      <td>0.228471</td>\n",
       "      <td>9.119850e-02</td>\n",
       "    </tr>\n",
       "    <tr>\n",
       "      <th>min</th>\n",
       "      <td>0.000043</td>\n",
       "      <td>0.000006</td>\n",
       "      <td>0.000007</td>\n",
       "      <td>0.000005</td>\n",
       "      <td>0.000037</td>\n",
       "      <td>4.790903e-07</td>\n",
       "    </tr>\n",
       "    <tr>\n",
       "      <th>25%</th>\n",
       "      <td>0.010322</td>\n",
       "      <td>0.000435</td>\n",
       "      <td>0.001944</td>\n",
       "      <td>0.000291</td>\n",
       "      <td>0.004451</td>\n",
       "      <td>3.620256e-04</td>\n",
       "    </tr>\n",
       "    <tr>\n",
       "      <th>50%</th>\n",
       "      <td>0.029320</td>\n",
       "      <td>0.000929</td>\n",
       "      <td>0.004784</td>\n",
       "      <td>0.000603</td>\n",
       "      <td>0.010642</td>\n",
       "      <td>1.062594e-03</td>\n",
       "    </tr>\n",
       "    <tr>\n",
       "      <th>75%</th>\n",
       "      <td>0.182033</td>\n",
       "      <td>0.001441</td>\n",
       "      <td>0.016337</td>\n",
       "      <td>0.000816</td>\n",
       "      <td>0.032143</td>\n",
       "      <td>2.246641e-03</td>\n",
       "    </tr>\n",
       "    <tr>\n",
       "      <th>max</th>\n",
       "      <td>1.000000</td>\n",
       "      <td>0.994768</td>\n",
       "      <td>1.000000</td>\n",
       "      <td>0.998434</td>\n",
       "      <td>0.999986</td>\n",
       "      <td>9.999266e-01</td>\n",
       "    </tr>\n",
       "  </tbody>\n",
       "</table>\n",
       "</div>"
      ],
      "text/plain": [
       "               toxic   severe_toxic        obscene         threat  \\\n",
       "count  153164.000000  153164.000000  153164.000000  153164.000000   \n",
       "mean        0.201579       0.019184       0.125718       0.004649   \n",
       "std         0.331414       0.080079       0.284637       0.040392   \n",
       "min         0.000043       0.000006       0.000007       0.000005   \n",
       "25%         0.010322       0.000435       0.001944       0.000291   \n",
       "50%         0.029320       0.000929       0.004784       0.000603   \n",
       "75%         0.182033       0.001441       0.016337       0.000816   \n",
       "max         1.000000       0.994768       1.000000       0.998434   \n",
       "\n",
       "              insult  identity_hate  \n",
       "count  153164.000000   1.531640e+05  \n",
       "mean        0.103635   1.759101e-02  \n",
       "std         0.228471   9.119850e-02  \n",
       "min         0.000037   4.790903e-07  \n",
       "25%         0.004451   3.620256e-04  \n",
       "50%         0.010642   1.062594e-03  \n",
       "75%         0.032143   2.246641e-03  \n",
       "max         0.999986   9.999266e-01  "
      ]
     },
     "execution_count": 7,
     "metadata": {},
     "output_type": "execute_result"
    }
   ],
   "source": [
    "submission.describe()"
   ]
  },
  {
   "cell_type": "code",
   "execution_count": 11,
   "metadata": {},
   "outputs": [
    {
     "data": {
      "text/html": [
       "<div>\n",
       "<style>\n",
       "    .dataframe thead tr:only-child th {\n",
       "        text-align: right;\n",
       "    }\n",
       "\n",
       "    .dataframe thead th {\n",
       "        text-align: left;\n",
       "    }\n",
       "\n",
       "    .dataframe tbody tr th {\n",
       "        vertical-align: top;\n",
       "    }\n",
       "</style>\n",
       "<table border=\"1\" class=\"dataframe\">\n",
       "  <thead>\n",
       "    <tr style=\"text-align: right;\">\n",
       "      <th></th>\n",
       "      <th>id</th>\n",
       "      <th>toxic</th>\n",
       "      <th>severe_toxic</th>\n",
       "      <th>obscene</th>\n",
       "      <th>threat</th>\n",
       "      <th>insult</th>\n",
       "      <th>identity_hate</th>\n",
       "    </tr>\n",
       "  </thead>\n",
       "  <tbody>\n",
       "    <tr>\n",
       "      <th>647</th>\n",
       "      <td>0114509409588767</td>\n",
       "      <td>0.250396</td>\n",
       "      <td>0.000893</td>\n",
       "      <td>0.04317</td>\n",
       "      <td>0.000476</td>\n",
       "      <td>0.30317</td>\n",
       "      <td>0.002893</td>\n",
       "    </tr>\n",
       "  </tbody>\n",
       "</table>\n",
       "</div>"
      ],
      "text/plain": [
       "                   id     toxic  severe_toxic  obscene    threat   insult  \\\n",
       "647  0114509409588767  0.250396      0.000893  0.04317  0.000476  0.30317   \n",
       "\n",
       "     identity_hate  \n",
       "647       0.002893  "
      ]
     },
     "execution_count": 11,
     "metadata": {},
     "output_type": "execute_result"
    }
   ],
   "source": [
    "submission.loc[submission['id'] == '0114509409588767']"
   ]
  },
  {
   "cell_type": "code",
   "execution_count": 12,
   "metadata": {},
   "outputs": [],
   "source": [
    "blend_submission = pd.read_csv('data/preprocessed_blend.csv')"
   ]
  },
  {
   "cell_type": "code",
   "execution_count": 13,
   "metadata": {},
   "outputs": [
    {
     "data": {
      "text/html": [
       "<div>\n",
       "<style>\n",
       "    .dataframe thead tr:only-child th {\n",
       "        text-align: right;\n",
       "    }\n",
       "\n",
       "    .dataframe thead th {\n",
       "        text-align: left;\n",
       "    }\n",
       "\n",
       "    .dataframe tbody tr th {\n",
       "        vertical-align: top;\n",
       "    }\n",
       "</style>\n",
       "<table border=\"1\" class=\"dataframe\">\n",
       "  <thead>\n",
       "    <tr style=\"text-align: right;\">\n",
       "      <th></th>\n",
       "      <th>id</th>\n",
       "      <th>toxic</th>\n",
       "      <th>severe_toxic</th>\n",
       "      <th>obscene</th>\n",
       "      <th>threat</th>\n",
       "      <th>insult</th>\n",
       "      <th>identity_hate</th>\n",
       "    </tr>\n",
       "  </thead>\n",
       "  <tbody>\n",
       "    <tr>\n",
       "      <th>647</th>\n",
       "      <td>0114509409588767</td>\n",
       "      <td>0.402429</td>\n",
       "      <td>0.021176</td>\n",
       "      <td>0.103199</td>\n",
       "      <td>0.013444</td>\n",
       "      <td>0.230419</td>\n",
       "      <td>0.017473</td>\n",
       "    </tr>\n",
       "  </tbody>\n",
       "</table>\n",
       "</div>"
      ],
      "text/plain": [
       "                   id     toxic  severe_toxic   obscene    threat    insult  \\\n",
       "647  0114509409588767  0.402429      0.021176  0.103199  0.013444  0.230419   \n",
       "\n",
       "     identity_hate  \n",
       "647       0.017473  "
      ]
     },
     "execution_count": 13,
     "metadata": {},
     "output_type": "execute_result"
    }
   ],
   "source": [
    "blend_submission.loc[blend_submission['id'] == '0114509409588767']"
   ]
  },
  {
   "cell_type": "code",
   "execution_count": 14,
   "metadata": {},
   "outputs": [],
   "source": [
    "a = submission \n",
    "b = blend_submission"
   ]
  },
  {
   "cell_type": "code",
   "execution_count": 15,
   "metadata": {},
   "outputs": [],
   "source": [
    "del a['toxic']"
   ]
  },
  {
   "cell_type": "code",
   "execution_count": 16,
   "metadata": {},
   "outputs": [],
   "source": [
    "del a['threat']\n",
    "del a['insult']\n",
    "del a['identity_hate']\n",
    "\n",
    "del b['severe_toxic']\n",
    "del b['obscene']\n",
    "del b['id']"
   ]
  },
  {
   "cell_type": "code",
   "execution_count": 23,
   "metadata": {},
   "outputs": [],
   "source": [
    "out = pd.concat([a, b], axis=1)"
   ]
  },
  {
   "cell_type": "code",
   "execution_count": 24,
   "metadata": {},
   "outputs": [
    {
     "data": {
      "text/html": [
       "<div>\n",
       "<style>\n",
       "    .dataframe thead tr:only-child th {\n",
       "        text-align: right;\n",
       "    }\n",
       "\n",
       "    .dataframe thead th {\n",
       "        text-align: left;\n",
       "    }\n",
       "\n",
       "    .dataframe tbody tr th {\n",
       "        vertical-align: top;\n",
       "    }\n",
       "</style>\n",
       "<table border=\"1\" class=\"dataframe\">\n",
       "  <thead>\n",
       "    <tr style=\"text-align: right;\">\n",
       "      <th></th>\n",
       "      <th>id</th>\n",
       "      <th>severe_toxic</th>\n",
       "      <th>obscene</th>\n",
       "      <th>toxic</th>\n",
       "      <th>threat</th>\n",
       "      <th>insult</th>\n",
       "      <th>identity_hate</th>\n",
       "    </tr>\n",
       "  </thead>\n",
       "  <tbody>\n",
       "    <tr>\n",
       "      <th>0</th>\n",
       "      <td>00001cee341fdb12</td>\n",
       "      <td>0.144039</td>\n",
       "      <td>0.997231</td>\n",
       "      <td>0.907373</td>\n",
       "      <td>0.068772</td>\n",
       "      <td>0.824949</td>\n",
       "      <td>0.437925</td>\n",
       "    </tr>\n",
       "    <tr>\n",
       "      <th>1</th>\n",
       "      <td>0000247867823ef7</td>\n",
       "      <td>0.001215</td>\n",
       "      <td>0.003469</td>\n",
       "      <td>0.010137</td>\n",
       "      <td>0.006929</td>\n",
       "      <td>0.006320</td>\n",
       "      <td>0.015238</td>\n",
       "    </tr>\n",
       "    <tr>\n",
       "      <th>2</th>\n",
       "      <td>00013b17ad220c46</td>\n",
       "      <td>0.000929</td>\n",
       "      <td>0.006413</td>\n",
       "      <td>0.011127</td>\n",
       "      <td>0.008329</td>\n",
       "      <td>0.005232</td>\n",
       "      <td>0.012861</td>\n",
       "    </tr>\n",
       "    <tr>\n",
       "      <th>3</th>\n",
       "      <td>00017563c3f7919a</td>\n",
       "      <td>0.000546</td>\n",
       "      <td>0.001753</td>\n",
       "      <td>0.009389</td>\n",
       "      <td>0.008886</td>\n",
       "      <td>0.005881</td>\n",
       "      <td>0.013462</td>\n",
       "    </tr>\n",
       "    <tr>\n",
       "      <th>4</th>\n",
       "      <td>00017695ad8997eb</td>\n",
       "      <td>0.000831</td>\n",
       "      <td>0.006332</td>\n",
       "      <td>0.015261</td>\n",
       "      <td>0.006829</td>\n",
       "      <td>0.007079</td>\n",
       "      <td>0.013260</td>\n",
       "    </tr>\n",
       "  </tbody>\n",
       "</table>\n",
       "</div>"
      ],
      "text/plain": [
       "                 id  severe_toxic   obscene     toxic    threat    insult  \\\n",
       "0  00001cee341fdb12      0.144039  0.997231  0.907373  0.068772  0.824949   \n",
       "1  0000247867823ef7      0.001215  0.003469  0.010137  0.006929  0.006320   \n",
       "2  00013b17ad220c46      0.000929  0.006413  0.011127  0.008329  0.005232   \n",
       "3  00017563c3f7919a      0.000546  0.001753  0.009389  0.008886  0.005881   \n",
       "4  00017695ad8997eb      0.000831  0.006332  0.015261  0.006829  0.007079   \n",
       "\n",
       "   identity_hate  \n",
       "0       0.437925  \n",
       "1       0.015238  \n",
       "2       0.012861  \n",
       "3       0.013462  \n",
       "4       0.013260  "
      ]
     },
     "execution_count": 24,
     "metadata": {},
     "output_type": "execute_result"
    }
   ],
   "source": [
    "out.head()"
   ]
  },
  {
   "cell_type": "code",
   "execution_count": 25,
   "metadata": {},
   "outputs": [],
   "source": [
    "cols = list(out.columns.values) #Make a list of all of the columns in the df\n",
    "cols.pop(cols.index('severe_toxic')) #Remove b from list\n",
    "cols.pop(cols.index('obscene')) #Remove x from list\n",
    "cols.pop(cols.index('threat'))\n",
    "cols.pop(cols.index('insult')) #Remove b from list\n",
    "cols.pop(cols.index('identity_hate'))\n",
    "\n",
    "out = out[cols+['severe_toxic','obscene','threat','insult','identity_hate']] #Create new dataframe with columns in the order you want"
   ]
  },
  {
   "cell_type": "code",
   "execution_count": 26,
   "metadata": {},
   "outputs": [
    {
     "data": {
      "text/html": [
       "<div>\n",
       "<style>\n",
       "    .dataframe thead tr:only-child th {\n",
       "        text-align: right;\n",
       "    }\n",
       "\n",
       "    .dataframe thead th {\n",
       "        text-align: left;\n",
       "    }\n",
       "\n",
       "    .dataframe tbody tr th {\n",
       "        vertical-align: top;\n",
       "    }\n",
       "</style>\n",
       "<table border=\"1\" class=\"dataframe\">\n",
       "  <thead>\n",
       "    <tr style=\"text-align: right;\">\n",
       "      <th></th>\n",
       "      <th>id</th>\n",
       "      <th>toxic</th>\n",
       "      <th>severe_toxic</th>\n",
       "      <th>obscene</th>\n",
       "      <th>threat</th>\n",
       "      <th>insult</th>\n",
       "      <th>identity_hate</th>\n",
       "    </tr>\n",
       "  </thead>\n",
       "  <tbody>\n",
       "    <tr>\n",
       "      <th>0</th>\n",
       "      <td>00001cee341fdb12</td>\n",
       "      <td>0.907373</td>\n",
       "      <td>0.144039</td>\n",
       "      <td>0.997231</td>\n",
       "      <td>0.068772</td>\n",
       "      <td>0.824949</td>\n",
       "      <td>0.437925</td>\n",
       "    </tr>\n",
       "    <tr>\n",
       "      <th>1</th>\n",
       "      <td>0000247867823ef7</td>\n",
       "      <td>0.010137</td>\n",
       "      <td>0.001215</td>\n",
       "      <td>0.003469</td>\n",
       "      <td>0.006929</td>\n",
       "      <td>0.006320</td>\n",
       "      <td>0.015238</td>\n",
       "    </tr>\n",
       "    <tr>\n",
       "      <th>2</th>\n",
       "      <td>00013b17ad220c46</td>\n",
       "      <td>0.011127</td>\n",
       "      <td>0.000929</td>\n",
       "      <td>0.006413</td>\n",
       "      <td>0.008329</td>\n",
       "      <td>0.005232</td>\n",
       "      <td>0.012861</td>\n",
       "    </tr>\n",
       "    <tr>\n",
       "      <th>3</th>\n",
       "      <td>00017563c3f7919a</td>\n",
       "      <td>0.009389</td>\n",
       "      <td>0.000546</td>\n",
       "      <td>0.001753</td>\n",
       "      <td>0.008886</td>\n",
       "      <td>0.005881</td>\n",
       "      <td>0.013462</td>\n",
       "    </tr>\n",
       "    <tr>\n",
       "      <th>4</th>\n",
       "      <td>00017695ad8997eb</td>\n",
       "      <td>0.015261</td>\n",
       "      <td>0.000831</td>\n",
       "      <td>0.006332</td>\n",
       "      <td>0.006829</td>\n",
       "      <td>0.007079</td>\n",
       "      <td>0.013260</td>\n",
       "    </tr>\n",
       "  </tbody>\n",
       "</table>\n",
       "</div>"
      ],
      "text/plain": [
       "                 id     toxic  severe_toxic   obscene    threat    insult  \\\n",
       "0  00001cee341fdb12  0.907373      0.144039  0.997231  0.068772  0.824949   \n",
       "1  0000247867823ef7  0.010137      0.001215  0.003469  0.006929  0.006320   \n",
       "2  00013b17ad220c46  0.011127      0.000929  0.006413  0.008329  0.005232   \n",
       "3  00017563c3f7919a  0.009389      0.000546  0.001753  0.008886  0.005881   \n",
       "4  00017695ad8997eb  0.015261      0.000831  0.006332  0.006829  0.007079   \n",
       "\n",
       "   identity_hate  \n",
       "0       0.437925  \n",
       "1       0.015238  \n",
       "2       0.012861  \n",
       "3       0.013462  \n",
       "4       0.013260  "
      ]
     },
     "execution_count": 26,
     "metadata": {},
     "output_type": "execute_result"
    }
   ],
   "source": [
    "out.head()"
   ]
  },
  {
   "cell_type": "code",
   "execution_count": 28,
   "metadata": {},
   "outputs": [],
   "source": [
    "out.to_csv('submissionMar16A.csv', index=False)"
   ]
  },
  {
   "cell_type": "code",
   "execution_count": null,
   "metadata": {},
   "outputs": [],
   "source": []
  }
 ],
 "metadata": {
  "kernelspec": {
   "display_name": "Python 2",
   "language": "python",
   "name": "python2"
  },
  "language_info": {
   "codemirror_mode": {
    "name": "ipython",
    "version": 2
   },
   "file_extension": ".py",
   "mimetype": "text/x-python",
   "name": "python",
   "nbconvert_exporter": "python",
   "pygments_lexer": "ipython2",
   "version": "2.7.14"
  }
 },
 "nbformat": 4,
 "nbformat_minor": 2
}
